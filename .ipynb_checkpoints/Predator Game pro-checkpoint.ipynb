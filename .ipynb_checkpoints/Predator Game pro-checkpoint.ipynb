{
 "cells": [
  {
   "cell_type": "code",
   "execution_count": null,
   "id": "f135a74e",
   "metadata": {},
   "outputs": [],
   "source": [
    "'''\n",
    "小鱼儿老师：课程14-编写强化学习环境进阶 https://www.bilibili.com/video/BV1bY41147Fz/?spm_id_from=333.999.0.0&vd_source=eb79911dba31f65406585397357ca033\n",
    "'''"
   ]
  },
  {
   "cell_type": "code",
   "execution_count": 12,
   "id": "47aeb71a",
   "metadata": {},
   "outputs": [],
   "source": [
    "import numpy as np\n",
    "import cv2\n",
    "from PIL import Image\n",
    "import pickle\n",
    "import matplotlib.pyplot as plt\n",
    "import time\n",
    "import os\n",
    "from matplotlib import style\n",
    "style.use('ggplot')"
   ]
  },
  {
   "cell_type": "code",
   "execution_count": 3,
   "id": "1192b26f",
   "metadata": {},
   "outputs": [],
   "source": [
    "# 初始化环境参数\n",
    "SIZE = 10\n",
    "EPISODES = 30000\n",
    "SHOW_EVERY = 3000\n",
    "\n",
    "FOOD_REWARD = 25 #食物奖励\n",
    "ENEMY_PENALITY = 300 #敌人惩罚\n",
    "MOVE_PENALITY = 1 #移动惩罚\n",
    "\n",
    "epsilon = 0.6 #选择随机概率\n",
    "EPS_DECAY = 0.9998 #概率折扣\n",
    "\n",
    "DISCOUNT = 0.95 #折扣 gamma\n",
    "LEARNING_RATE = 0.1 #alpha\n",
    "\n",
    "q_table = 'qtable_1719578112.pickle'\n",
    "\n",
    "d = {1:(255, 0, 0), # red\n",
    "     2:(0, 255, 0), # green\n",
    "     3:(0, 0, 255)} #bule\n",
    "\n",
    "PLAYER_N = 1\n",
    "FOOD_N = 2\n",
    "ENEMY_N = 3\n"
   ]
  },
  {
   "cell_type": "code",
   "execution_count": 4,
   "id": "cf7bee51",
   "metadata": {},
   "outputs": [],
   "source": [
    "# 方格类：可实现为玩家、食物、敌人\n",
    "class Cube:\n",
    "    def __init__(self):\n",
    "        self.x = np.random.randint(0,SIZE)\n",
    "        self.y = np.random.randint(0,SIZE)\n",
    "        \n",
    "    def __str__(self):\n",
    "        return f'{self.x},{self.y}'\n",
    "    \n",
    "    def __sub__(self, other):\n",
    "        return (self.x-other.x,self.y-other.y)\n",
    "    \n",
    "    # 1:向左或向下，2：不动，3：向右或向上\n",
    "    def action(self, choise):\n",
    "        if choise == 0:\n",
    "            self.move(x=2, y=2)\n",
    "        elif choise == 1:\n",
    "            self.move(x=3, y=2)\n",
    "        elif choise == 2:\n",
    "            self.move(x=2, y=3)\n",
    "        elif choise == 3:\n",
    "            self.move(x=2, y=1)\n",
    "        elif choise == 4:\n",
    "            self.move(x=1, y=2)\n",
    "    \n",
    "    def move(self, x=False, y=False):\n",
    "        if not x:\n",
    "            self.x = self.x + np.random.randint(-1, 2)\n",
    "        else:\n",
    "            self.x = self.x + x - 2\n",
    "        if not y:\n",
    "            self.y = self.y + np.random.randint(-1, 2) \n",
    "        else:\n",
    "         self.y = self.y + y -2\n",
    "            \n",
    "            \n",
    "        #边界情况\n",
    "        if self.x < 0:\n",
    "            self.x = 0\n",
    "        if self.x >= SIZE:\n",
    "            self.x = SIZE-1\n",
    "        if self.y < 0:\n",
    "            self.y = 0\n",
    "        if self.y >= SIZE:\n",
    "            self.y = SIZE-1"
   ]
  },
  {
   "cell_type": "code",
   "execution_count": 5,
   "id": "1ef6b070",
   "metadata": {},
   "outputs": [
    {
     "name": "stdout",
     "output_type": "stream",
     "text": [
      "7,5\n",
      "6,5\n"
     ]
    }
   ],
   "source": [
    "# Cube Test\n",
    "player = Cube()\n",
    "print(player)\n",
    "player.action(4)\n",
    "print(player)\n",
    "# food = Cube()\n",
    "# print(food)\n",
    "# print(player-food)\n"
   ]
  },
  {
   "cell_type": "code",
   "execution_count": 6,
   "id": "83bba522",
   "metadata": {},
   "outputs": [],
   "source": [
    "q_table = None"
   ]
  },
  {
   "cell_type": "code",
   "execution_count": 7,
   "id": "febeac62",
   "metadata": {},
   "outputs": [],
   "source": [
    "# 初始化q_table\n",
    "if q_table is None:\n",
    "    q_table = {}\n",
    "    \n",
    "    for x1 in range(-SIZE+1, SIZE):\n",
    "        for y1 in range(-SIZE+1, SIZE):\n",
    "            for x2 in range(-SIZE+1, SIZE):\n",
    "                for y2 in range(-SIZE+1, SIZE):\n",
    "                    q_table[(x1, y1),(x2, y2)] = [np.random.uniform(-5, 0) for i in range(5)]\n",
    "                    \n",
    "else:\n",
    "    with open(q_table, 'rb') as f:\n",
    "        q_table = pickle.load(f)"
   ]
  },
  {
   "cell_type": "code",
   "execution_count": 8,
   "id": "611e6aaa",
   "metadata": {
    "scrolled": true
   },
   "outputs": [
    {
     "name": "stdout",
     "output_type": "stream",
     "text": [
      "episode #3000, epsilon:0.32926722239570905\n",
      "mean reward:-179.77933333333334\n",
      "episode #6000, epsilon:0.18069483957364205\n",
      "mean reward:-161.08033333333333\n",
      "episode #9000, epsilon:0.09916147987941909\n",
      "mean reward:-152.05466666666666\n",
      "episode #12000, epsilon:0.054417708414240505\n",
      "mean reward:-151.93233333333333\n",
      "episode #15000, epsilon:0.029863279497827713\n",
      "mean reward:-152.47866666666667\n",
      "episode #18000, epsilon:0.016388331819794114\n",
      "mean reward:-152.50566666666666\n",
      "episode #21000, epsilon:0.00899356749667138\n",
      "mean reward:-147.76933333333332\n",
      "episode #24000, epsilon:0.00493547831509555\n",
      "mean reward:-143.62066666666666\n",
      "episode #27000, epsilon:0.0027084853933429503\n",
      "mean reward:-139.892\n",
      "episode #30000, epsilon:0.0014863591039423116\n",
      "mean reward:-139.25633333333334\n",
      "episode #33000, epsilon:0.0008156822227294347\n",
      "mean reward:-134.295\n",
      "episode #36000, epsilon:0.00044762903305946587\n",
      "mean reward:-130.85233333333332\n",
      "episode #39000, epsilon:0.0002456492806319455\n",
      "mean reward:-129.00666666666666\n",
      "episode #42000, epsilon:0.00013480709386197562\n",
      "mean reward:-123.84733333333334\n",
      "episode #45000, epsilon:7.397926225861729e-05\n",
      "mean reward:-119.24966666666667\n",
      "episode #48000, epsilon:4.0598243664631156e-05\n",
      "mean reward:-119.691\n",
      "episode #51000, epsilon:2.2279451542662007e-05\n",
      "mean reward:-114.33566666666667\n",
      "episode #54000, epsilon:1.2226488543253467e-05\n",
      "mean reward:-111.958\n",
      "episode #57000, epsilon:6.7096365371500425e-06\n",
      "mean reward:-111.31233333333333\n",
      "episode #60000, epsilon:3.682105643120264e-06\n",
      "mean reward:-108.62866666666666\n",
      "episode #63000, epsilon:2.0206611627963032e-06\n",
      "mean reward:-104.148\n",
      "episode #66000, epsilon:1.1088958141280404e-06\n",
      "mean reward:-102.817\n",
      "episode #69000, epsilon:6.085384077402802e-07\n",
      "mean reward:-99.31766666666667\n",
      "episode #72000, epsilon:3.3395291872958457e-07\n",
      "mean reward:-94.13366666666667\n",
      "episode #75000, epsilon:1.832662499350516e-07\n",
      "mean reward:-94.994\n",
      "episode #78000, epsilon:1.005726151249877e-07\n",
      "mean reward:-90.223\n",
      "episode #81000, epsilon:5.5192109385462725e-08\n",
      "mean reward:-89.162\n",
      "episode #84000, epsilon:3.0288254259185935e-08\n",
      "mean reward:-89.77333333333333\n",
      "episode #87000, epsilon:1.6621548918562064e-08\n",
      "mean reward:-84.09633333333333\n",
      "episode #90000, epsilon:9.121552073882217e-09\n",
      "mean reward:-84.19566666666667\n",
      "episode #93000, epsilon:5.005713525508368e-09\n",
      "mean reward:-80.958\n",
      "episode #96000, epsilon:2.747028981087967e-09\n",
      "mean reward:-81.313\n",
      "episode #99000, epsilon:1.5075110040722586e-09\n",
      "mean reward:-77.121\n",
      "97001\n"
     ]
    },
    {
     "data": {
      "image/png": "[encoded data removed]",
      "text/plain": [
       "<Figure size 432x288 with 1 Axes>"
      ]
     },
     "metadata": {},
     "output_type": "display_data"
    }
   ],
   "source": [
    "#train\n",
    "episode_rewards = []\n",
    "for episode in range(EPISODES):\n",
    "    # 实例化player \\ food \\ enemy\n",
    "    player = Cube()\n",
    "    food = Cube()\n",
    "    enemy = Cube()\n",
    "    \n",
    "    # 显示图像 \n",
    "    if(episode % SHOW_EVERY == 0 and episode >= SHOW_EVERY):\n",
    "        print(f'episode #{episode}, epsilon:{epsilon}')\n",
    "        print(f'mean reward:{np.mean(episode_rewards[-SHOW_EVERY:])}')\n",
    "        flag_show = True\n",
    "    else:\n",
    "        flag_show = False\n",
    "    \n",
    "    episode_reward = 0\n",
    "    for i in range(200):\n",
    "        obs = (player - food, player - enemy)\n",
    "        \n",
    "        if np.random.random() > epsilon:\n",
    "            action = np.argmax(q_table[obs]) #选择Q值最高动作\n",
    "        else:\n",
    "            action = np.random.randint(0, 5) #随机选择一个动作\n",
    "            \n",
    "        player.action(action)\n",
    "        # TODO : move\n",
    "\n",
    "        # 奖励\n",
    "        if(player.x == food.x and player.y == food.y):\n",
    "            reward = FOOD_REWARD\n",
    "        elif(player.x == enemy.x and player.y == enemy.y):\n",
    "            reward = -ENEMY_PENALITY\n",
    "        else:\n",
    "            reward = -MOVE_PENALITY\n",
    "        \n",
    "        # Update the Q_table\n",
    "        current_q = q_table[obs][action]\n",
    "        new_obs = (player - food, player - enemy)\n",
    "        max_future_q = np.max(q_table[new_obs])\n",
    "        \n",
    "        if(reward == FOOD_REWARD):#TODO: ?为什么不考虑reward == -ENEMY_PENALITY 的情况\n",
    "            new_q = FOOD_REWARD\n",
    "        else:\n",
    "            new_q = (1 - LEARNING_RATE) * current_q + LEARNING_RATE * (reward + DISCOUNT + max_future_q) \n",
    "        q_table[obs][action] = new_q\n",
    "        \n",
    "        if flag_show:\n",
    "            env = np.zeros((SIZE, SIZE, 3), dtype = np.uint8)\n",
    "            env[food.x][food.y] = d[FOOD_N]\n",
    "            env[player.x][player.y] = d[PLAYER_N]\n",
    "            env[enemy.x][enemy.y] = d[ENEMY_N]\n",
    "            \n",
    "            img = Image.fromarray(env, 'RGB')\n",
    "            img = img.resize((800, 800))\n",
    "\n",
    "            cv2.imshow('', np.array(img))\n",
    "            \n",
    "            if (reward == FOOD_REWARD or reward == -ENEMY_PENALITY):\n",
    "                if cv2.waitKey(5000) & 0xFF == ord('q'):\n",
    "                    break\n",
    "            else:\n",
    "                if cv2.waitKey(1) & 0xFF == ord('q'):\n",
    "                    break\n",
    "        \n",
    "        \n",
    "        \n",
    "        episode_reward += reward\n",
    "        \n",
    "        # 吃到food\n",
    "        if (reward == FOOD_REWARD or reward == -ENEMY_PENALITY):\n",
    "            break\n",
    "            \n",
    "    episode_rewards.append(episode_reward)\n",
    "    epsilon *= EPS_DECAY\n",
    "    \n",
    "cv2.destroyAllWindows()\n",
    "#画曲线\n",
    "moving_avg = np.convolve(episode_rewards, np.ones((SHOW_EVERY,))/SHOW_EVERY, mode = 'valid')\n",
    "print(len(moving_avg))\n",
    "plt.plot([i for i in range(len(moving_avg))], moving_avg)\n",
    "plt.xlabel('episode #')\n",
    "plt.ylabel(f'mean {SHOW_EVERY} reward')\n",
    "plt.show()\n",
    "\n"
   ]
  },
  {
   "cell_type": "code",
   "execution_count": 13,
   "id": "3b940b51",
   "metadata": {},
   "outputs": [],
   "source": [
    "if not os.path.exists('Q_table'):\n",
    "    os.makedirs('Q_table')\n",
    "with open(f'Q_table\\qtable_{int(time.time())}.pickle', 'wb') as f:\n",
    "    pickle.dump(q_table, f)"
   ]
  },
  {
   "cell_type": "code",
   "execution_count": null,
   "id": "3281abec",
   "metadata": {},
   "outputs": [],
   "source": []
  },
  {
   "cell_type": "code",
   "execution_count": null,
   "id": "23b75bea",
   "metadata": {},
   "outputs": [],
   "source": []
  },
  {
   "cell_type": "code",
   "execution_count": 8,
   "id": "6933ab9e",
   "metadata": {},
   "outputs": [
    {
     "name": "stdout",
     "output_type": "stream",
     "text": [
      "27001\n"
     ]
    },
    {
     "data": {
      "image/png": "[encoded data removed]",
      "text/plain": [
       "<Figure size 432x288 with 1 Axes>"
      ]
     },
     "metadata": {},
     "output_type": "display_data"
    }
   ],
   "source": [
    "#画曲线\n",
    "moving_avg = np.convolve(episode_rewards, np.ones((SHOW_EVERY,))/SHOW_EVERY, mode = 'valid')\n",
    "print(len(moving_avg))\n",
    "plt.plot([i for i in range(len(moving_avg))], moving_avg)\n",
    "plt.xlabel('episode #')\n",
    "plt.ylabel(f'mean {SHOW_EVERY} reward')\n",
    "plt.show()"
   ]
  },
  {
   "cell_type": "code",
   "execution_count": 18,
   "id": "2bed1aab",
   "metadata": {},
   "outputs": [],
   "source": [
    "# 显示界面\n",
    "food = Cube()\n",
    "player = Cube()\n",
    "enemy = Cube()\n",
    "\n",
    "env = np.zeros((SIZE, SIZE, 3), dtype = np.uint8)\n",
    "env[food.x][food.y] = d[FOOD_N]\n",
    "env[player.x][player.y] = d[PLAYER_N]\n",
    "env[enemy.x][enemy.y] = d[ENEMY_N]\n",
    "\n",
    "img = Image.fromarray(env, 'RGB')\n",
    "img = img.resize((800, 800))\n",
    "\n",
    "cv2.imshow('', np.array(img))\n",
    "\n",
    "if cv2.waitKey(5000) & 0xFF == ord('q'):\n",
    "    pass\n",
    "cv2.destroyAllWindows()"
   ]
  },
  {
   "cell_type": "code",
   "execution_count": 16,
   "id": "a53ece9f",
   "metadata": {},
   "outputs": [],
   "source": [
    "# test cv关闭所有窗口\n",
    "cv2.destroyAllWindows()"
   ]
  },
  {
   "cell_type": "code",
   "execution_count": null,
   "id": "b882f643",
   "metadata": {},
   "outputs": [],
   "source": [
    "conv = np.convolve([2,3,5,8,12,34,67,89], np.ones((3,))/3, mode = 'valid')"
   ]
  }
 ],
 "metadata": {
  "kernelspec": {
   "display_name": "py36",
   "language": "python",
   "name": "py36"
  },
  "language_info": {
   "codemirror_mode": {
    "name": "ipython",
    "version": 3
   },
   "file_extension": ".py",
   "mimetype": "text/x-python",
   "name": "python",
   "nbconvert_exporter": "python",
   "pygments_lexer": "ipython3",
   "version": "3.6.13"
  }
 },
 "nbformat": 4,
 "nbformat_minor": 5
}
