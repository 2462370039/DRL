{
 "cells": [
  {
   "cell_type": "code",
   "execution_count": null,
   "id": "f135a74e",
   "metadata": {},
   "outputs": [],
   "source": [
    "'''\n",
    "小鱼儿老师：课程14-编写强化学习环境进阶 https://www.bilibili.com/video/BV1bY41147Fz/?spm_id_from=333.999.0.0&vd_source=eb79911dba31f65406585397357ca033\n",
    "'''"
   ]
  },
  {
   "cell_type": "code",
   "execution_count": 18,
   "id": "47aeb71a",
   "metadata": {},
   "outputs": [],
   "source": [
    "import numpy as np\n",
    "import cv2\n",
    "from PIL import Image\n",
    "import pickle\n",
    "import matplotlib.pyplot as plt\n",
    "import time\n",
    "import os\n",
    "from matplotlib import style\n",
    "style.use('ggplot')"
   ]
  },
  {
   "cell_type": "code",
   "execution_count": 13,
   "id": "1192b26f",
   "metadata": {},
   "outputs": [],
   "source": [
    "# 初始化环境参数\n",
    "SIZE = 10\n",
    "EPISODES = 30000\n",
    "SHOW_EVERY = 3000\n",
    "\n",
    "epsilon = 0.6 #选择随机概率\n",
    "EPS_DECAY = 0.9998 #概率折扣\n",
    "\n",
    "DISCOUNT = 0.95 #折扣 gamma\n",
    "LEARNING_RATE = 0.3 #alpha\n",
    "\n",
    "q_table = f'Q_table\\qtable_1719578112.pickle'\n",
    "\n"
   ]
  },
  {
   "cell_type": "code",
   "execution_count": 54,
   "id": "cf7bee51",
   "metadata": {},
   "outputs": [],
   "source": [
    "# 方格类：可实例化为玩家、食物、敌人\n",
    "class Cube:\n",
    "    def __init__(self, size):\n",
    "        self.size = size\n",
    "        self.x = np.random.randint(0,self.size)\n",
    "        self.y = np.random.randint(0,self.size)\n",
    "        \n",
    "    def __str__(self):\n",
    "        return f'{self.x},{self.y}'\n",
    "    \n",
    "    def __sub__(self, other):\n",
    "        return (self.x-other.x,self.y-other.y)\n",
    "    \n",
    "    # TODO:\n",
    "    def __eq__(self, other):\n",
    "        return (self - other == (0, 0))\n",
    "\n",
    "    # 1:向左或向下，2：不动，3：向右或向上\n",
    "    def action(self, choise):\n",
    "        if choise == 0:\n",
    "            self.move(x=2, y=2)\n",
    "        elif choise == 1:\n",
    "            self.move(x=3, y=2)\n",
    "        elif choise == 2:\n",
    "            self.move(x=2, y=3)\n",
    "        elif choise == 3:\n",
    "            self.move(x=2, y=1)\n",
    "        elif choise == 4:\n",
    "            self.move(x=1, y=2)\n",
    "        elif choise == 5:\n",
    "            self.move(x=3, y=1)\n",
    "        elif choise == 6:\n",
    "            self.move(x=3, y=3)\n",
    "        elif choise == 7:\n",
    "            self.move(x=1, y=3)\n",
    "        elif choise == 8:\n",
    "            self.move(x=1, y=1)    \n",
    "    \n",
    "    def move(self, x=False, y=False):\n",
    "        if not x:\n",
    "            self.x = self.x + np.random.randint(-1, 2)\n",
    "        else:\n",
    "            self.x = self.x + x - 2\n",
    "        if not y:\n",
    "            self.y = self.y + np.random.randint(-1, 2) \n",
    "        else:\n",
    "            self.y = self.y + y -2\n",
    "               \n",
    "        #边界情况\n",
    "        if self.x < 0:\n",
    "            self.x = 0\n",
    "        if self.x >= self.size:\n",
    "            self.x = self.size-1\n",
    "        if self.y < 0:\n",
    "            self.y = 0\n",
    "        if self.y >= self.size:\n",
    "            self.y = self.size-1"
   ]
  },
  {
   "cell_type": "code",
   "execution_count": 102,
   "id": "fefb7f7b",
   "metadata": {},
   "outputs": [],
   "source": [
    "# 环境类 \n",
    "class envCube:\n",
    "    SIZE = 10\n",
    "\n",
    "    # TODO:OBSERVATION_SPACE_VALUES\\ACTION_SPACE_VALUES\\RETURN_IMAGE\n",
    "\n",
    "    FOOD_REWARD = 25 #食物奖励\n",
    "    MOVE_PENALITY = -1 #移动惩罚\n",
    "    ENEMY_PENALITY = -300 #敌人惩罚\n",
    "\n",
    "    \n",
    "    BGR = { 1:(255, 0, 0), # blue\n",
    "            2:(0, 255, 0), # green\n",
    "            3:(0, 0, 255)} # red\n",
    "        \n",
    "    PLAYER_N = 1\n",
    "    FOOD_N = 2\n",
    "    ENEMY_N = 3\n",
    "\n",
    "    # 生成player\\food\\enemy\n",
    "    def reset(self):\n",
    "        self.player = Cube(self.SIZE)\n",
    "        self.food = Cube(self.SIZE)\n",
    "        while (self.player == self.food):\n",
    "            self.food = Cube(self.SIZE)\n",
    "\n",
    "        self.enemy = Cube(self.SIZE)\n",
    "        while (self.player == self.enemy or self.food == self.enemy):\n",
    "            self.enemy = Cube(self.SIZE)\n",
    "        \n",
    "        #TODO:RETURN_IMAGE\n",
    "        observation = (self.player - self.food) + (self.player - self.enemy)\n",
    "\n",
    "        # 局数重置\n",
    "        self.episode_step = 0\n",
    "\n",
    "        return observation\n",
    "    \n",
    "    '''\n",
    "    new_observation: 新状态\n",
    "    reward: 当前步骤的奖励\n",
    "    done: 游戏是否结束\n",
    "    '''\n",
    "    def step(self, action):\n",
    "        self.episode_step += 1\n",
    "\n",
    "        self.player.move(action)\n",
    "        self.food.move()\n",
    "        self.enemy.move()\n",
    "\n",
    "        #TODO:RETURN_IMAGE\n",
    "        new_observation = (self.player - self.food) + (self.player - self.enemy)\n",
    "\n",
    "        if (self.player == self.food):\n",
    "            reward = self.FOOD_REWARD\n",
    "        elif (self.player == self.enemy):\n",
    "            reward = self.ENEMY_PENALITY\n",
    "        else:\n",
    "            reward = self.MOVE_PENALITY\n",
    "        \n",
    "        done = False\n",
    "        if (self.player == self.food or self.player == self.enemy or self.episode_step >= 200):\n",
    "            done = True\n",
    "\n",
    "        return new_observation, reward, done\n",
    "    \n",
    "\n",
    "    '''\n",
    "    获取画图数组\n",
    "    '''\n",
    "    def get_image(self):\n",
    "        env_image = np.zeros((self.SIZE, self.SIZE, 3), dtype=np.uint8)\n",
    "        env_image[self.player.x][self.player.y] = self.BGR[self.PLAYER_N]\n",
    "        env_image[self.food.x][self.food.y] = self.BGR[self.FOOD_N]\n",
    "        env_image[self.enemy.x][self.enemy.y] = self.BGR[self.ENEMY_N]\n",
    "        image = Image.fromarray(env_image, 'RGB')\n",
    "        return image\n",
    "\n",
    "    '''\n",
    "    画图\n",
    "    '''\n",
    "    def render(self):\n",
    "        img = self.get_image().resize((800, 800))\n",
    "        cv2.imshow('', np.array(img))\n",
    "        cv2.waitKey(5000)\n",
    "        cv2.destroyAllWindows()\n",
    "        \n",
    "        # if (reward == FOOD_REWARD or reward == -ENEMY_PENALITY):\n",
    "        #     if cv2.waitKey(5000) & 0xFF == ord('q'):\n",
    "        #         break\n",
    "        # else:\n",
    "        #     if cv2.waitKey(1) & 0xFF == ord('q'):\n",
    "        #         break\n"
   ]
  },
  {
   "cell_type": "code",
   "execution_count": 113,
   "id": "6d79fe1d",
   "metadata": {},
   "outputs": [
    {
     "name": "stdout",
     "output_type": "stream",
     "text": [
      "(-2, 2, -4, 3)\n",
      "(-4, 2, -6, 2) -1 False\n"
     ]
    }
   ],
   "source": [
    "# env Test\n",
    "ob = envCube()\n",
    "print(ob.reset())\n",
    "new_observation, reward, done = ob.step(1)\n",
    "print(new_observation, reward, done)\n",
    "\n",
    "ob.render()\n",
    "# cv2.destroyAllWindows()\n"
   ]
  },
  {
   "cell_type": "code",
   "execution_count": 101,
   "id": "26354edb",
   "metadata": {},
   "outputs": [],
   "source": [
    "cv2.destroyAllWindows()"
   ]
  },
  {
   "cell_type": "code",
   "execution_count": 48,
   "id": "1ef6b070",
   "metadata": {},
   "outputs": [
    {
     "name": "stdout",
     "output_type": "stream",
     "text": [
      "1,1\n",
      "1,1\n",
      "True\n"
     ]
    }
   ],
   "source": [
    "# Cube Test\n",
    "player = Cube(2)\n",
    "print(player)\n",
    "\n",
    "# player.action(4)\n",
    "# print(player)\n",
    "food = Cube(2)\n",
    "print(food)\n",
    "print(player == food)\n",
    "\n",
    "# print(player-food)\n"
   ]
  },
  {
   "cell_type": "code",
   "execution_count": 17,
   "id": "febeac62",
   "metadata": {},
   "outputs": [],
   "source": [
    "# 初始化q_table\n",
    "if q_table is None:\n",
    "    q_table = {}\n",
    "    \n",
    "    for x1 in range(-SIZE+1, SIZE):\n",
    "        for y1 in range(-SIZE+1, SIZE):\n",
    "            for x2 in range(-SIZE+1, SIZE):\n",
    "                for y2 in range(-SIZE+1, SIZE):\n",
    "                    q_table[(x1, y1),(x2, y2)] = [np.random.uniform(-5, 0) for i in range(5)]\n",
    "                    \n",
    "else:\n",
    "    with open(q_table, 'rb') as f:\n",
    "        q_table = pickle.load(f)"
   ]
  },
  {
   "cell_type": "code",
   "execution_count": 7,
   "id": "611e6aaa",
   "metadata": {
    "scrolled": true
   },
   "outputs": [
    {
     "name": "stdout",
     "output_type": "stream",
     "text": [
      "episode #3000, epsilon:0.32926722239570905\n",
      "mean reward:-182.08866666666665\n",
      "episode #6000, epsilon:0.18069483957364205\n",
      "mean reward:-160.86533333333333\n",
      "episode #9000, epsilon:0.09916147987941909\n",
      "mean reward:-152.36166666666668\n",
      "episode #12000, epsilon:0.054417708414240505\n",
      "mean reward:-149.59433333333334\n",
      "episode #15000, epsilon:0.029863279497827713\n",
      "mean reward:-148.07966666666667\n",
      "episode #18000, epsilon:0.016388331819794114\n",
      "mean reward:-142.145\n",
      "episode #21000, epsilon:0.00899356749667138\n",
      "mean reward:-140.87466666666666\n",
      "episode #24000, epsilon:0.00493547831509555\n",
      "mean reward:-139.05266666666665\n",
      "episode #27000, epsilon:0.0027084853933429503\n",
      "mean reward:-136.49933333333334\n",
      "27001\n"
     ]
    },
    {
     "data": {
      "image/png": "[encoded data removed]",
      "text/plain": [
       "<Figure size 432x288 with 1 Axes>"
      ]
     },
     "metadata": {},
     "output_type": "display_data"
    }
   ],
   "source": [
    "#train\n",
    "episode_rewards = []\n",
    "for episode in range(EPISODES):\n",
    "    # 实例化player \\ food \\ enemy\n",
    "    player = Cube()\n",
    "    food = Cube()\n",
    "    enemy = Cube()\n",
    "    \n",
    "    # 显示图像 \n",
    "    if(episode % SHOW_EVERY == 0 and episode >= SHOW_EVERY):\n",
    "        print(f'episode #{episode}, epsilon:{epsilon}')\n",
    "        print(f'mean reward:{np.mean(episode_rewards[-SHOW_EVERY:])}')\n",
    "        flag_show = True\n",
    "    else:\n",
    "        flag_show = False\n",
    "    \n",
    "    episode_reward = 0\n",
    "    for i in range(200):\n",
    "        obs = (player - food, player - enemy)\n",
    "        \n",
    "        if np.random.random() > epsilon:\n",
    "            action = np.argmax(q_table[obs]) #选择Q值最高动作\n",
    "        else:\n",
    "            action = np.random.randint(0, 5) #随机选择一个动作\n",
    "            \n",
    "        player.action(action)\n",
    "        # TODO : move\n",
    "\n",
    "        # 奖励\n",
    "        if(player.x == food.x and player.y == food.y):\n",
    "            reward = FOOD_REWARD\n",
    "        elif(player.x == enemy.x and player.y == enemy.y):\n",
    "            reward = -ENEMY_PENALITY\n",
    "        else:\n",
    "            reward = -MOVE_PENALITY\n",
    "        \n",
    "        # Update the Q_table\n",
    "        current_q = q_table[obs][action]\n",
    "        new_obs = (player - food, player - enemy)\n",
    "        max_future_q = np.max(q_table[new_obs])\n",
    "        \n",
    "        if(reward == FOOD_REWARD):#TODO: ?为什么不考虑reward == -ENEMY_PENALITY 的情况\n",
    "            new_q = FOOD_REWARD\n",
    "        else:\n",
    "            new_q = (1 - LEARNING_RATE) * current_q + LEARNING_RATE * (reward + DISCOUNT + max_future_q) \n",
    "        q_table[obs][action] = new_q\n",
    "        \n",
    "        if flag_show:\n",
    "            env = np.zeros((SIZE, SIZE, 3), dtype = np.uint8)\n",
    "            env[food.x][food.y] = BGR[FOOD_N]\n",
    "            env[player.x][player.y] = BGR[PLAYER_N]\n",
    "            env[enemy.x][enemy.y] = BGR[ENEMY_N]\n",
    "            \n",
    "            img = Image.fromarray(env, 'RGB')\n",
    "            img = img.resize((800, 800))\n",
    "\n",
    "            cv2.imshow('', np.array(img))\n",
    "            \n",
    "            if (reward == FOOD_REWARD or reward == -ENEMY_PENALITY):\n",
    "                if cv2.waitKey(5000) & 0xFF == ord('q'):\n",
    "                    break\n",
    "            else:\n",
    "                if cv2.waitKey(1) & 0xFF == ord('q'):\n",
    "                    break\n",
    "        \n",
    "        \n",
    "        \n",
    "        episode_reward += reward\n",
    "        \n",
    "        # 吃到food\n",
    "        if (reward == FOOD_REWARD or reward == -ENEMY_PENALITY):\n",
    "            break\n",
    "            \n",
    "    episode_rewards.append(episode_reward)\n",
    "    epsilon *= EPS_DECAY\n",
    "    \n",
    "cv2.destroyAllWindows()\n",
    "#画曲线\n",
    "moving_avg = np.convolve(episode_rewards, np.ones((SHOW_EVERY,))/SHOW_EVERY, mode = 'valid')\n",
    "print(len(moving_avg))\n",
    "plt.plot([i for i in range(len(moving_avg))], moving_avg)\n",
    "plt.xlabel('episode #')\n",
    "plt.ylabel(f'mean {SHOW_EVERY} reward')\n",
    "plt.show()\n",
    "\n"
   ]
  },
  {
   "cell_type": "code",
   "execution_count": 8,
   "id": "3b940b51",
   "metadata": {},
   "outputs": [],
   "source": [
    "if not os.path.exists('Q_table'):\n",
    "    os.makedirs('Q_table')\n",
    "with open(f'Q_table\\qtable_pro_{int(time.time())}.pickle', 'wb') as f:\n",
    "    pickle.dump(q_table, f)"
   ]
  },
  {
   "cell_type": "code",
   "execution_count": null,
   "id": "3281abec",
   "metadata": {},
   "outputs": [],
   "source": []
  },
  {
   "cell_type": "code",
   "execution_count": null,
   "id": "23b75bea",
   "metadata": {},
   "outputs": [],
   "source": []
  },
  {
   "cell_type": "code",
   "execution_count": 9,
   "id": "6933ab9e",
   "metadata": {},
   "outputs": [
    {
     "name": "stdout",
     "output_type": "stream",
     "text": [
      "27001\n"
     ]
    },
    {
     "data": {
      "image/png": "[encoded data removed]",
      "text/plain": [
       "<Figure size 432x288 with 1 Axes>"
      ]
     },
     "metadata": {},
     "output_type": "display_data"
    }
   ],
   "source": [
    "#画曲线\n",
    "moving_avg = np.convolve(episode_rewards, np.ones((SHOW_EVERY,))/SHOW_EVERY, mode = 'valid')\n",
    "print(len(moving_avg))\n",
    "plt.plot([i for i in range(len(moving_avg))], moving_avg)\n",
    "plt.xlabel('episode #')\n",
    "plt.ylabel(f'mean {SHOW_EVERY} reward')\n",
    "plt.show()"
   ]
  },
  {
   "cell_type": "code",
   "execution_count": 10,
   "id": "2bed1aab",
   "metadata": {},
   "outputs": [],
   "source": [
    "# 显示界面\n",
    "food = Cube()\n",
    "player = Cube()\n",
    "enemy = Cube()\n",
    "\n",
    "env = np.zeros((SIZE, SIZE, 3), dtype = np.uint8)\n",
    "env[food.x][food.y] = d[FOOD_N]\n",
    "env[player.x][player.y] = d[PLAYER_N]\n",
    "env[enemy.x][enemy.y] = d[ENEMY_N]\n",
    "\n",
    "img = Image.fromarray(env, 'RGB')\n",
    "img = img.resize((800, 800))\n",
    "\n",
    "cv2.imshow('', np.array(img))\n",
    "\n",
    "if cv2.waitKey(5000) & 0xFF == ord('q'):\n",
    "    pass\n",
    "cv2.destroyAllWindows()"
   ]
  },
  {
   "cell_type": "code",
   "execution_count": 11,
   "id": "a53ece9f",
   "metadata": {},
   "outputs": [],
   "source": [
    "# test cv关闭所有窗口\n",
    "cv2.destroyAllWindows()"
   ]
  },
  {
   "cell_type": "code",
   "execution_count": 12,
   "id": "b882f643",
   "metadata": {},
   "outputs": [],
   "source": [
    "conv = np.convolve([2,3,5,8,12,34,67,89], np.ones((3,))/3, mode = 'valid')"
   ]
  }
 ],
 "metadata": {
  "kernelspec": {
   "display_name": "py36",
   "language": "python",
   "name": "python3"
  },
  "language_info": {
   "codemirror_mode": {
    "name": "ipython",
    "version": 3
   },
   "file_extension": ".py",
   "mimetype": "text/x-python",
   "name": "python",
   "nbconvert_exporter": "python",
   "pygments_lexer": "ipython3",
   "version": "3.6.13"
  }
 },
 "nbformat": 4,
 "nbformat_minor": 5
}
